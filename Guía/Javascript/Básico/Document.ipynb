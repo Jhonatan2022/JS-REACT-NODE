{
 "cells": [
  {
   "cell_type": "markdown",
   "metadata": {},
   "source": [
    "# Javascript Básico\n",
    "\n",
    "## Hoisting\n",
    "![](img/Hoisting.png)\n",
    "\n",
    "## Coerción de tipos\n",
    "![](img/Coerción.png)\n",
    "\n",
    "\n",
    "## Operadores de igualdad\n",
    "\n",
    "1. Existen dos tipos de igualdad:\n",
    "\n",
    "* Igualdad por valor (==): compara dos variables solamente por su valor. Por ejemplo: \"\"3\"\" de tipo string y 3 de tipo número son iguales.\n",
    "* Igualdad por valor y tipo de dato (===): compara dos variables por su valor y tipo de dato. Por ejemplo: \"\"3\"\" de tipo string y 3 de tipo número no son iguales. Solamente 3 y 3, ambos de tipo número son iguales.\n",
    "\n",
    "![](img/Operators.png)"
   ]
  }
 ],
 "metadata": {
  "language_info": {
   "name": "python"
  },
  "orig_nbformat": 4
 },
 "nbformat": 4,
 "nbformat_minor": 2
}
