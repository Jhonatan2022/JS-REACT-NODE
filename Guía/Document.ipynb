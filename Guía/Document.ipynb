{
 "cells": [
  {
   "cell_type": "markdown",
   "metadata": {},
   "source": [
    "# Entorno de Desarrollo en Windows\n",
    "## DevTools\n",
    "* [Link](https://chrome.google.com/webstore/category/ext/11-web-development)\n",
    "\n",
    "## Lighthouse (Chrome)\n",
    "![](img/Report.png)\n",
    "\n",
    "## Power Toys\n",
    "* [Link](https://github.com/microsoft/PowerToys/releases/tag/v0.72.0)\n",
    "\n",
    "\n",
    "\n",
    "# Javascript Básico\n",
    "\n",
    "## Hoisting\n",
    "![](img/Hoisting.png)\n",
    "\n",
    "## Coerción de tipos\n",
    "![](img/Coerción.png)\n",
    "\n",
    "\n",
    "## Operadores de igualdad\n",
    "\n",
    "1. Existen dos tipos de igualdad:\n",
    "\n",
    "* Igualdad por valor (==): compara dos variables solamente por su valor. Por ejemplo: \"\"3\"\" de tipo string y 3 de tipo número son iguales.\n",
    "* Igualdad por valor y tipo de dato (===): compara dos variables por su valor y tipo de dato. Por ejemplo: \"\"3\"\" de tipo string y 3 de tipo número no son iguales. Solamente 3 y 3, ambos de tipo número son iguales.\n",
    "\n",
    "![](img/Operators.png)\n",
    "\n",
    "\n",
    "# Javascript prácico\n",
    "\n",
    "## Listas Y Objetos\n",
    "1️. Responde las siguientes preguntas en la sección de comentarios:\n",
    "\n",
    "### ¿Qué es un array?\n",
    "Es una lista de elementos, PUEDEN SER DE CUALQUIER TIPO.\n",
    "\n",
    "### ¿Qué es un objeto?\n",
    "Es una lista de elementos PERO cada elemento tiene un nombre clave.\n",
    "\n",
    "### ¿Cuándo es mejor usar objetos o arrays?\n",
    "Arrays cuando lo que haremos en un elemento es lo mismo que en todos los demás (la regla se puede incumplir). Mientras que un objeto cuando los nombres de cada elemento son importantes para nuestro algoritmo.\n",
    "¿Puedo mezclar arrays con objetos o incluso objetos con arrays?\n",
    "\n",
    "Sí. Los arrays pueden guardar objetos. Y los objetos pueden guardar arrays entre sus propiedades."
   ]
  }
 ],
 "metadata": {
  "language_info": {
   "name": "python"
  },
  "orig_nbformat": 4
 },
 "nbformat": 4,
 "nbformat_minor": 2
}
