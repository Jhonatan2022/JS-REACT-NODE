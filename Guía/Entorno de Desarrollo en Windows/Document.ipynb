{
 "cells": [
  {
   "cell_type": "markdown",
   "metadata": {},
   "source": [
    "# Entorno de Desarrollo en Windows\n",
    "\n",
    "## DevTools\n",
    "* [Link](https://chrome.google.com/webstore/category/ext/11-web-development)\n",
    "\n",
    "\n",
    "## Lighthouse (Chrome)\n",
    "![](img/Report.png)\n",
    "\n",
    "\n",
    "## Power Toys\n",
    "* [Link](https://github.com/microsoft/PowerToys/releases/tag/v0.72.0)"
   ]
  }
 ],
 "metadata": {
  "language_info": {
   "name": "python"
  },
  "orig_nbformat": 4
 },
 "nbformat": 4,
 "nbformat_minor": 2
}
