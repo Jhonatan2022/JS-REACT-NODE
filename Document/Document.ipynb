{
 "cells": [
  {
   "cell_type": "markdown",
   "metadata": {},
   "source": [
    "# ECMAScript 6+\n",
    "# Referencias\n",
    "* [Repositorio de ECMAScript](https://github.com/tc39/proposals)\n",
    "* [Search ChannelID](https://commentpicker.com/youtube-channel-id.php)\n",
    "* [RapidAPI](https://rapidapi.com/)"
   ]
  },
  {
   "cell_type": "markdown",
   "metadata": {},
   "source": [
    "# Referencias\n",
    "* [Tinypng](https://tinypng.com/) - Compresor de imagenes\n",
    "* [Verexif](https://www.verexif.com/) - Eliminar metadata de imagenes (Para celular)\n",
    "* [Google Fonts](https://fonts.google.com/) - Fuentes de Google \n",
    "* [Tamaños de pantalla](https://www.mydevice.io/#compare-devices)\n",
    "* [Caniuse](https://caniuse.com/) - Compatibilidad de CSS y JS\n",
    "* [Abobe Color](https://color.adobe.com/es/create/color-wheel) - Paleta de colores\n",
    "* [Flaticon](https://www.flaticon.es/) - Iconos\n",
    "* [Firefly](https://firefly.adobe.com/) - Imagenes\n",
    "* [Repo Posicionamientos](https://github.com/platzi/CSS2020#8-t%C3%A9cnicas-de-alineamiento-antes-de-css-grid-parte-2) - Guía clase\n",
    "* [Gradient Generator](https://mycolor.space/gradient) - Generador de gradientes\n",
    "* [Examples Grid](https://gridbyexample.com/patterns/) - Ejemplos de Grid\n",
    "* [CSS reference](https://cssreference.io/) - Referencia de CSS\n",
    "* [Tailwind Components](https://tailwindcomponents.com/cheatsheet/) - Componentes de Tailwind\n",
    "* [React Svg](https://reactsvgicons.com/) - Iconos de React\n",
    "\n",
    "# React Hooks\n",
    "* [UseHooks](https://usehooks.com/) - Hooks\n",
    "* [Repo React Use](https://github.com/streamich/react-use)\n",
    "* [Strapi](https://strapi.io/) - CMS Open Source\n",
    "* [React Helmet](https://www.npmjs.com/package/react-helmet) - SEO\n",
    "* [Bootstrap templates free](https://startbootstrap.com/templates/) - Templates Bootstrap\n",
    "* [Unavatar](https://unavatar.io/#/) - Imagenes de perfil de redes sociales"
   ]
  }
 ],
 "metadata": {
  "language_info": {
   "name": "python"
  },
  "orig_nbformat": 4
 },
 "nbformat": 4,
 "nbformat_minor": 2
}
